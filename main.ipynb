{
 "cells": [
  {
   "attachments": {},
   "cell_type": "markdown",
   "metadata": {},
   "source": [
    "# Imports"
   ]
  },
  {
   "cell_type": "code",
   "execution_count": 4,
   "metadata": {},
   "outputs": [],
   "source": [
    "# pip install xgboost\n",
    "\n",
    "import pandas as pd\n",
    "import numpy as np\n",
    "import matplotlib.pyplot as plt\n",
    "import seaborn as sns\n",
    "# import statsmodels.api as smd\n",
    "\n",
    "import sklearn\n",
    "from sklearn.metrics import confusion_matrix\n",
    "\n",
    "from sklearn.preprocessing import OneHotEncoder\n",
    "from sklearn.preprocessing import StandardScaler\n",
    "from sklearn.model_selection import train_test_split\n",
    "from sklearn.preprocessing import Normalizer\n",
    "\n",
    "%matplotlib inline\n"
   ]
  },
  {
   "attachments": {},
   "cell_type": "markdown",
   "metadata": {},
   "source": []
  },
  {
   "attachments": {},
   "cell_type": "markdown",
   "metadata": {},
   "source": [
    "# Start"
   ]
  },
  {
   "cell_type": "code",
   "execution_count": 5,
   "metadata": {},
   "outputs": [],
   "source": [
    "churn_data=pd.read_csv(r'churn_data.csv')\n",
    "customer_data=pd.read_csv(r'customer_data.csv')\n",
    "internet_data=pd.read_csv(r'internet_data.csv')\n",
    "\n",
    "churn=pd.DataFrame(churn_data)\n",
    "customer=pd.DataFrame(customer_data)\n",
    "internet=pd.DataFrame(internet_data)\n",
    "\n",
    "churn.isnull().sum()\n",
    "internet.isnull().sum()\n",
    "customer.isnull().sum()\n",
    "\n",
    "merging_customer_internet=pd.merge(customer,internet)\n",
    "dataset=pd.merge(churn,merging_customer_internet)"
   ]
  },
  {
   "attachments": {},
   "cell_type": "markdown",
   "metadata": {},
   "source": [
    "# Pre-Processing"
   ]
  },
  {
   "cell_type": "code",
   "execution_count": 6,
   "metadata": {},
   "outputs": [],
   "source": [
    "categorical_features=[feature for feature in dataset.columns if dataset[feature].dtype =='object']\n",
    "numerical_features=['Churn','MonthlyCharges','TotalCharges']\n",
    "\n",
    "clean_data=dataset.copy()\n",
    "for feature in ['OnlineSecurity','OnlineBackup','DeviceProtection','TechSupport','StreamingTV','StreamingMovies']:\n",
    "    clean_data[feature]=clean_data[feature].replace({'No internet service':'No'})\n",
    "\n",
    "clean_data=clean_data.iloc[:,1:]\n",
    "clean_data['MultipleLines']=clean_data['MultipleLines'].replace({'No phone service':'No'})\n",
    "\n",
    "#check\n",
    "ind=clean_data[clean_data['TotalCharges']==\" \"].index\n",
    "clean_data=clean_data.drop(index=ind)\n",
    "clean_data['TotalCharges']=clean_data['TotalCharges'].apply(lambda x: float(x) )"
   ]
  },
  {
   "attachments": {},
   "cell_type": "markdown",
   "metadata": {},
   "source": [
    "# One Hot Encoding"
   ]
  },
  {
   "cell_type": "code",
   "execution_count": 7,
   "metadata": {},
   "outputs": [],
   "source": [
    "oe=OneHotEncoder()\n",
    "\n",
    "categorical_features.remove('customerID')\n",
    "categorical_features.remove('TotalCharges')\n",
    "categorical_features.remove('Churn')\n",
    "\n",
    "encodered_data=pd.get_dummies(clean_data[categorical_features])\n",
    "\n",
    "numerical_features=['tenure','MonthlyCharges','TotalCharges','SeniorCitizen','Churn']\n",
    "\n",
    "full_data=encodered_data.merge(clean_data[numerical_features],left_index=True, right_index=True)\n",
    "\n",
    "# check\n",
    "numerical_features.remove('SeniorCitizen')\n",
    "\n",
    "# Replacing Yes and No with 0 or 1\n",
    "full_data['Churn']=np.where(full_data['Churn']=='No',0,1)\n",
    "\n",
    "# Remove Churn from Full Data set\n",
    "X=full_data.iloc[:,:-1]\n",
    "\n",
    "Y=full_data['Churn']"
   ]
  },
  {
   "attachments": {},
   "cell_type": "markdown",
   "metadata": {},
   "source": [
    "# Scale and Normalize Data"
   ]
  },
  {
   "cell_type": "code",
   "execution_count": 8,
   "metadata": {},
   "outputs": [],
   "source": [
    "ss=StandardScaler()\n",
    "\n",
    "col=[colu for colu in clean_data.columns if colu not in numerical_features]\n",
    "\n",
    "Norm=Normalizer()\n",
    "X_train,X_test,Y_train,Y_test=train_test_split(X,Y,test_size=0.3,random_state=7)"
   ]
  },
  {
   "attachments": {},
   "cell_type": "markdown",
   "metadata": {},
   "source": [
    "# XGBOOST"
   ]
  },
  {
   "cell_type": "code",
   "execution_count": 9,
   "metadata": {},
   "outputs": [],
   "source": [
    "estimate=clean_data['Churn'].value_counts()['No']/clean_data['Churn'].value_counts()['Yes']"
   ]
  },
  {
   "cell_type": "code",
   "execution_count": 10,
   "metadata": {},
   "outputs": [
    {
     "name": "stdout",
     "output_type": "stream",
     "text": [
      "Mean ROC AUC: 0.81581\n"
     ]
    }
   ],
   "source": [
    "from numpy import mean\n",
    "from xgboost import XGBClassifier\n",
    "model = XGBClassifier(scale_pos_weight=estimate)\n",
    "from sklearn.model_selection import cross_val_score\n",
    "from sklearn.model_selection import RepeatedStratifiedKFold\n",
    "cv = RepeatedStratifiedKFold(n_splits=10, n_repeats=3, random_state=1)\n",
    "scores = cross_val_score(model, X_train, Y_train, scoring='roc_auc', cv=cv, n_jobs=-1)\n",
    "# summarize performance\n",
    "print('Mean ROC AUC: %.5f' % mean(scores))"
   ]
  },
  {
   "cell_type": "code",
   "execution_count": null,
   "metadata": {},
   "outputs": [],
   "source": []
  }
 ],
 "metadata": {
  "kernelspec": {
   "display_name": "Python 3",
   "language": "python",
   "name": "python3"
  },
  "language_info": {
   "codemirror_mode": {
    "name": "ipython",
    "version": 3
   },
   "file_extension": ".py",
   "mimetype": "text/x-python",
   "name": "python",
   "nbconvert_exporter": "python",
   "pygments_lexer": "ipython3",
   "version": "3.10.4"
  },
  "orig_nbformat": 4
 },
 "nbformat": 4,
 "nbformat_minor": 2
}
